{
 "cells": [
  {
   "cell_type": "markdown",
   "metadata": {},
   "source": [
    "# 新增資料庫"
   ]
  },
  {
   "cell_type": "code",
   "execution_count": 50,
   "metadata": {},
   "outputs": [
    {
     "name": "stdout",
     "output_type": "stream",
     "text": [
      "Database version : None \n"
     ]
    }
   ],
   "source": [
    "import pymysql\n",
    "\n",
    "db = pymysql.connect(\"db\",\"root\",\"123456\",\"iii_project\" )\n",
    " \n",
    "# 使用 cursor() 方法创建一个游标对象 cursor\n",
    "cursor = db.cursor()\n",
    "\n",
    "# 使用 execute()  方法执行 SQL 查询 \n",
    "cursor.execute(\"CREATE TABLE eur_usd_4hr( \\\n",
    "                    DateTime   DATETIME      PRIMARY KEY, \\\n",
    "                    Open   DECIMAL(10,5) NOT NULL, \\\n",
    "                    High   DECIMAL(10,5) NOT NULL, \\\n",
    "                    Low    DECIMAL(10,5) NOT NULL, \\\n",
    "                    Close  DECIMAL(10,5) NOT NULL);\")\n",
    " \n",
    "# 使用 fetchone() 方法获取单条数据.\n",
    "data = cursor.fetchone()\n",
    " \n",
    "print (\"Database version : %s \" % data)\n",
    "\n",
    "\n",
    "# 关闭数据库连接\n",
    "cursor.close()\n",
    "db.close()"
   ]
  },
  {
   "cell_type": "markdown",
   "metadata": {},
   "source": [
    "# 刪除資料庫"
   ]
  },
  {
   "cell_type": "code",
   "execution_count": 49,
   "metadata": {},
   "outputs": [
    {
     "name": "stdout",
     "output_type": "stream",
     "text": [
      "Database version : None \n"
     ]
    }
   ],
   "source": [
    "import pymysql\n",
    "\n",
    "db = pymysql.connect(\"db\",\"root\",\"123456\",\"iii_project\" )\n",
    " \n",
    "# 使用 cursor() 方法创建一个游标对象 cursor\n",
    "cursor = db.cursor()\n",
    "\n",
    "# 使用 execute()  方法执行 SQL 查询 \n",
    "cursor.execute(\"DROP TABLE eur_usd_4hr;\")\n",
    " \n",
    "# 使用 fetchone() 方法获取单条数据.\n",
    "data = cursor.fetchone()\n",
    " \n",
    "print (\"Database version : %s \" % data)\n",
    "\n",
    "# 关闭数据库连接\n",
    "cursor.close()\n",
    "db.close()"
   ]
  },
  {
   "cell_type": "markdown",
   "metadata": {},
   "source": [
    "# 查詢資料庫"
   ]
  },
  {
   "cell_type": "code",
   "execution_count": 46,
   "metadata": {},
   "outputs": [
    {
     "name": "stdout",
     "output_type": "stream",
     "text": [
      "Data:\n",
      " None\n"
     ]
    }
   ],
   "source": [
    "import pymysql\n",
    "\n",
    "db = pymysql.connect(\"db\",\"root\",\"123456\",\"iii_project\" )\n",
    " \n",
    "# 使用 cursor() 方法创建一个游标对象 cursor\n",
    "cursor = db.cursor()\n",
    "\n",
    "# 使用 execute()  方法执行 SQL 查询 \n",
    "cursor.execute(\"SELECT * FROM eur_usd_4hr;\")\n",
    " \n",
    "# 使用 fetchone() 方法获取单条数据.\n",
    "data = cursor.fetchone()\n",
    " \n",
    "print (\"Data:\\n\" , data)\n",
    "\n",
    "# 关闭数据库连接\n",
    "cursor.close()\n",
    "db.close()"
   ]
  },
  {
   "cell_type": "markdown",
   "metadata": {},
   "source": [
    "# 新增資料\n"
   ]
  },
  {
   "cell_type": "code",
   "execution_count": 43,
   "metadata": {},
   "outputs": [
    {
     "name": "stdout",
     "output_type": "stream",
     "text": [
      "Data:\n",
      " (datetime.datetime(2000, 5, 30, 17, 0), Decimal('0.93020'), Decimal('0.93050'), Decimal('0.92930'), Decimal('0.93050'))\n"
     ]
    }
   ],
   "source": [
    "import pymysql\n",
    "\n",
    "try:\n",
    "    db = pymysql.connect(\"db\",\"root\",\"123456\",\"iii_project\" )\n",
    "    cursor = db.cursor()\n",
    "\n",
    "    ins = \"INSERT INTO eur_usd_4hr VALUES ('2000-05-30 17:00:00', 0.9302, 0.9305, 0.9293, 0.9305);\"\n",
    " \n",
    "    cursor.execute(ins)\n",
    "    db.commit()\n",
    "\n",
    "    sql = \"SELECT * FROM eur_usd_4hr;\"\n",
    "    cursor.execute(sql)\n",
    "    data = cursor.fetchone()\n",
    "    print (\"Data:\\n\" , data)\n",
    "\n",
    "\n",
    "finally:\n",
    "    cursor.close()\n",
    "    db.close()"
   ]
  }
 ],
 "metadata": {
  "kernelspec": {
   "display_name": "Python 3",
   "language": "python",
   "name": "python3"
  },
  "language_info": {
   "codemirror_mode": {
    "name": "ipython",
    "version": 3
   },
   "file_extension": ".py",
   "mimetype": "text/x-python",
   "name": "python",
   "nbconvert_exporter": "python",
   "pygments_lexer": "ipython3",
   "version": "3.7.3"
  }
 },
 "nbformat": 4,
 "nbformat_minor": 2
}
